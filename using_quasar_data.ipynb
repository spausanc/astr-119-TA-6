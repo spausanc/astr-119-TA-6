{
 "cells": [
  {
   "cell_type": "code",
   "execution_count": null,
   "metadata": {},
   "outputs": [],
   "source": [
    "import numpy as np\n",
    "import matplotlib.pyplot as plt\n",
    "%matplotlib inline"
   ]
  },
  {
   "cell_type": "markdown",
   "metadata": {},
   "source": [
    "Pickle is a new package that saves data structures, like a dictionary!"
   ]
  },
  {
   "cell_type": "code",
   "execution_count": null,
   "metadata": {},
   "outputs": [],
   "source": [
    "import pickle"
   ]
  },
  {
   "cell_type": "markdown",
   "metadata": {},
   "source": [
    "our file is in a non-human language (bits). So we tel the 'open' to open it as 'rb'"
   ]
  },
  {
   "cell_type": "code",
   "execution_count": null,
   "metadata": {},
   "outputs": [],
   "source": [
    "pkl_file = open('line_list.pkl','rb')\n",
    "line_list = pickle.load(pkl_file)\n",
    "pkl_file.close()"
   ]
  },
  {
   "cell_type": "markdown",
   "metadata": {},
   "source": [
    "Remember to close the files you open! so your computer's memory does not get full and fail."
   ]
  },
  {
   "cell_type": "code",
   "execution_count": null,
   "metadata": {},
   "outputs": [],
   "source": [
    "line_list"
   ]
  },
  {
   "cell_type": "markdown",
   "metadata": {},
   "source": [
    "[light is absorbed in one direction, but reemitted in all directions :O] i.e. Ni II is the quantum level at which Nickel absorbs energy?"
   ]
  },
  {
   "cell_type": "code",
   "execution_count": null,
   "metadata": {},
   "outputs": [],
   "source": [
    "wavelength, flux = np.loadtxt('qso_spectrum.txt', unpack=True)"
   ]
  },
  {
   "cell_type": "markdown",
   "metadata": {},
   "source": [
    "np.loadtxt( ,unpack-True) Brings out everything inside of the file we're opening. It could even unpack the comments, but we don't need to do it now. Also it's not the best way to do so."
   ]
  },
  {
   "cell_type": "code",
   "execution_count": null,
   "metadata": {},
   "outputs": [],
   "source": [
    "plt.plot(wavelength, flux)\n",
    "#Scale the data to be observed so we can see what we want..\n",
    "plt.xlim(4530, 4540)\n",
    "plt.ylim(0, 1.5)\n",
    "plt.ylabel('Normalized Flux[dimentionless]')\n",
    "plt.xlabel('Wavelength [Angstroms]')"
   ]
  },
  {
   "cell_type": "markdown",
   "metadata": {},
   "source": [
    "Ths is an absorption pattern! It's a doublet. But the wavelength does not correspond to Ni II (1370 Amstrg)... But if you look at the GitHub repository, it has a note explaining that the data is redshifted by z = 2.309. this is telling us that there's a blob of gas at this redshift that is absorbing the light from our quasar, and then reemitting it in all directions"
   ]
  },
  {
   "cell_type": "markdown",
   "metadata": {},
   "source": [
    "If we wanted to have a snapshot for each of the wavelengths on line_list, we could:"
   ]
  },
  {
   "cell_type": "code",
   "execution_count": null,
   "metadata": {},
   "outputs": [],
   "source": [
    "redshift = 2.309\n",
    "deltawav = 5\n",
    "lessthan = wavelength < line_list['Ni_II_1370'] * (1 + redshift) + deltawav #Multiplying our Wav values  \n",
    "                                                                 #with the redshift\n",
    "greaterthan = wavelength > line_list['Ni_II_1370'] * (1 + redshift) + deltawav"
   ]
  },
  {
   "cell_type": "code",
   "execution_count": null,
   "metadata": {},
   "outputs": [],
   "source": [
    "plt.plot(wavelength, greaterthan)\n",
    "plt.plot(wavelength, lessthan)"
   ]
  },
  {
   "cell_type": "markdown",
   "metadata": {},
   "source": [
    "Now that we have all these valuables stored under the variable 'lessthan', and the greater numbers under 'greater than', so we can isolate the absorption line"
   ]
  },
  {
   "cell_type": "markdown",
   "metadata": {},
   "source": [
    "In order to isolate it, we must find the place where lessthan and greaterthan intersect, then substract all the values outside of that interval.\n",
    "\n",
    "Zach added 10 amstrongs to each value in order to make them intersect.. why? Wer're adding delta_wavelength allows us to see the whole region of the absorption, otherwise it would return just one value of intersection or something like that... And we know it's 10 because of the first plot where. we already knew the bracket (ylim, xlim)"
   ]
  },
  {
   "cell_type": "code",
   "execution_count": null,
   "metadata": {},
   "outputs": [],
   "source": [
    "wavelength_range = lessthan & greaterthan #This is using boolean logic. the character & \n",
    "#is looking for the places when both lesstahn and greaterthan are 1 at the same time!"
   ]
  },
  {
   "cell_type": "code",
   "execution_count": null,
   "metadata": {},
   "outputs": [],
   "source": [
    "wavelength_range.dtype"
   ]
  },
  {
   "cell_type": "code",
   "execution_count": null,
   "metadata": {},
   "outputs": [],
   "source": [
    "Ni_II_wavelength_range = wavelength[wavelength_range]"
   ]
  },
  {
   "cell_type": "code",
   "execution_count": null,
   "metadata": {},
   "outputs": [],
   "source": [
    "wavelength.shape"
   ]
  },
  {
   "cell_type": "code",
   "execution_count": null,
   "metadata": {},
   "outputs": [],
   "source": [
    "Ni_II_wavelength_range.shape"
   ]
  },
  {
   "cell_type": "code",
   "execution_count": null,
   "metadata": {},
   "outputs": [],
   "source": [
    "Ni_II_wavelength_range"
   ]
  },
  {
   "cell_type": "code",
   "execution_count": null,
   "metadata": {},
   "outputs": [],
   "source": [
    "Ni_II_flux = flux[wavelength_range]"
   ]
  },
  {
   "cell_type": "code",
   "execution_count": null,
   "metadata": {},
   "outputs": [],
   "source": [
    "Ni_II_wavelength_range_at_rest = Ni_II_wavelength_range / (1+redshift)"
   ]
  },
  {
   "cell_type": "code",
   "execution_count": null,
   "metadata": {},
   "outputs": [],
   "source": [
    "fig, axl = plt.subplots(figsize = (10, 3))\n",
    "\n",
    "axl.plot(Ni_II_wavelength_range_at_rest, Ni_II_flux, 'k')\n",
    "axl.axvline(line_list['Ni_II_1370'], linestyle=':', color='k')\n",
    "axl.set_ylim(0, 1.1)\n",
    "\n",
    "text = 'Ni_II_1370'.replace('_', \" \") #REplacing underscores with spaces, so it's pretty :3\n",
    "axl.text(line_list['Ni_II_1370'] - 1.5, .2, text) #Placing the text at an specific position\n",
    "axl.set_ylabel('Normalized Flux')\n",
    "axl.set_xlabel('Rest Wavelength [Angtroms]')\n",
    "\n",
    "ax2 = axl.twiny() #Creates a new axis that is further up!\n",
    "ax2.plot(Ni_II_wavelength_range, Ni_II_flux, 'k')\n",
    "ax2.set_ylim(0, 1.1)\n",
    "ax2.set_xlabel('Observed Wavelength [Angstroms]')"
   ]
  },
  {
   "cell_type": "markdown",
   "metadata": {},
   "source": [
    "# FANCY!! Put it in a paper RIGHT NOW"
   ]
  },
  {
   "cell_type": "code",
   "execution_count": null,
   "metadata": {},
   "outputs": [],
   "source": []
  },
  {
   "cell_type": "code",
   "execution_count": null,
   "metadata": {},
   "outputs": [],
   "source": []
  },
  {
   "cell_type": "markdown",
   "metadata": {},
   "source": [
    "## This is all if we don't know the interval in which our absorption lines are, because in this case, we won't know which ylim or xlim values to use"
   ]
  },
  {
   "cell_type": "code",
   "execution_count": null,
   "metadata": {},
   "outputs": [],
   "source": []
  }
 ],
 "metadata": {
  "kernelspec": {
   "display_name": "Python 3",
   "language": "python",
   "name": "python3"
  },
  "language_info": {
   "codemirror_mode": {
    "name": "ipython",
    "version": 3
   },
   "file_extension": ".py",
   "mimetype": "text/x-python",
   "name": "python",
   "nbconvert_exporter": "python",
   "pygments_lexer": "ipython3",
   "version": "3.6.5"
  }
 },
 "nbformat": 4,
 "nbformat_minor": 2
}
